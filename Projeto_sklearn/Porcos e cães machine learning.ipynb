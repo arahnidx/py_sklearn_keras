{
 "cells": [
  {
   "cell_type": "code",
   "execution_count": 1,
   "id": "ef279114",
   "metadata": {},
   "outputs": [],
   "source": [
    "#features\n",
    "#pelo longo? 0 ou 1\n",
    "#perna curta? 0 ou 1\n",
    "#late? 0 ou 1\n",
    "pig1 = [0, 1, 0]\n",
    "pig2 = [0, 1, 1]\n",
    "pig3 = [1, 1, 0]\n",
    "\n",
    "dog1 = [0, 0, 1]\n",
    "dog2 = [1, 0, 1]\n",
    "dog3 = [1, 1, 1]\n",
    "\n",
    "practice_x = [pig1, pig2, pig3, dog1, dog2, dog3]\n",
    "#porco => 1, cão => 0\n",
    "practice_y = [1,1,1,0,0,0]\n"
   ]
  },
  {
   "cell_type": "code",
   "execution_count": 2,
   "id": "b10d0da5",
   "metadata": {},
   "outputs": [
    {
     "data": {
      "text/plain": [
       "LinearSVC()"
      ]
     },
     "execution_count": 2,
     "metadata": {},
     "output_type": "execute_result"
    }
   ],
   "source": [
    "from sklearn.svm import LinearSVC\n",
    "\n",
    "model = LinearSVC()\n",
    "model.fit(practice_x, practice_y)"
   ]
  },
  {
   "cell_type": "code",
   "execution_count": 3,
   "id": "2998338e",
   "metadata": {},
   "outputs": [],
   "source": [
    "mystery1 = [1, 0, 1]\n",
    "mystery2 = [0, 0, 1]\n",
    "mystery3 = [0, 0, 0]\n",
    "\n",
    "test_x = [mystery1, mystery2, mystery3]\n",
    "test_y = [0, 0, 1] \n",
    "predictions = model.predict(test_x)\n"
   ]
  },
  {
   "cell_type": "code",
   "execution_count": 6,
   "id": "f8d9f33b",
   "metadata": {},
   "outputs": [
    {
     "data": {
      "text/plain": [
       "1.0"
      ]
     },
     "execution_count": 6,
     "metadata": {},
     "output_type": "execute_result"
    }
   ],
   "source": [
    "from sklearn.metrics import accuracy_score\n",
    "\n",
    "correct_rate = accuracy_score(test_y, predictions)\n",
    "correct_rate"
   ]
  },
  {
   "cell_type": "code",
   "execution_count": null,
   "id": "5c0dc818",
   "metadata": {},
   "outputs": [],
   "source": []
  }
 ],
 "metadata": {
  "kernelspec": {
   "display_name": "Python 3",
   "language": "python",
   "name": "python3"
  },
  "language_info": {
   "codemirror_mode": {
    "name": "ipython",
    "version": 3
   },
   "file_extension": ".py",
   "mimetype": "text/x-python",
   "name": "python",
   "nbconvert_exporter": "python",
   "pygments_lexer": "ipython3",
   "version": "3.8.8"
  }
 },
 "nbformat": 4,
 "nbformat_minor": 5
}
